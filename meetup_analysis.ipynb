{
 "cells": [
  {
   "cell_type": "markdown",
   "metadata": {},
   "source": [
    "Import and clean data"
   ]
  },
  {
   "cell_type": "code",
   "execution_count": 1,
   "metadata": {},
   "outputs": [],
   "source": [
    "import pandas as pd\n",
    "import os\n",
    "import glob\n",
    "\n",
    "path = 'data/public'\n",
    "all_files = glob.glob(os.path.join(path, \"*.csv\"))\n",
    "\n",
    "df_from_each_file = (pd.read_csv(f) for f in all_files)\n",
    "members   = pd.concat(df_from_each_file, ignore_index=True)"
   ]
  },
  {
   "cell_type": "code",
   "execution_count": 2,
   "metadata": {},
   "outputs": [],
   "source": [
    "#fill in na with 0\n",
    "members=members.fillna(0)"
   ]
  },
  {
   "cell_type": "code",
   "execution_count": 3,
   "metadata": {},
   "outputs": [],
   "source": [
    "#add datetime and month/year column\n",
    "import datetime\n",
    "members[\"dt_join\"] = pd.to_datetime(members[\"Joined Group on\"])\n",
    "members[\"date_join\"] = pd.to_datetime(members[\"dt_join\"].dt.strftime('%b %d, %Y'))"
   ]
  },
  {
   "cell_type": "code",
   "execution_count": 13,
   "metadata": {},
   "outputs": [],
   "source": [
    "members[\"dt_last_visit\"] = pd.to_datetime(members[\"Last visited group on\"])\n",
    "members[\"date_last_visit\"] = pd.to_datetime(members[\"dt_last_visit\"].dt.strftime('%b %d, %Y'))"
   ]
  },
  {
   "cell_type": "code",
   "execution_count": 14,
   "metadata": {},
   "outputs": [],
   "source": [
    "#members[\"month_year_join_date\"] = pd.to_datetime(members[\"date_join\"].dt.strftime(\"%Y %b\")).date()\n",
    "members[\"month_year_join\"] = members[\"date_join\"].dt.strftime(\"%Y %b\")\n",
    "members[\"month_year_visit\"] = members[\"date_last_visit\"].dt.strftime(\"%Y %b\")"
   ]
  },
  {
   "cell_type": "code",
   "execution_count": 5,
   "metadata": {},
   "outputs": [],
   "source": [
    "#remove test data..\n",
    "members = members[members.date_join > '2017-07-01']"
   ]
  },
  {
   "cell_type": "code",
   "execution_count": 6,
   "metadata": {},
   "outputs": [],
   "source": [
    "#add if attended\n",
    "import numpy as np\n",
    "members[\"attended\"] = np.where(members['Total RSVPs']>0, 'yes', 'no')"
   ]
  },
  {
   "cell_type": "code",
   "execution_count": 7,
   "metadata": {},
   "outputs": [
    {
     "data": {
      "text/html": [
       "<div>\n",
       "<style scoped>\n",
       "    .dataframe tbody tr th:only-of-type {\n",
       "        vertical-align: middle;\n",
       "    }\n",
       "\n",
       "    .dataframe tbody tr th {\n",
       "        vertical-align: top;\n",
       "    }\n",
       "\n",
       "    .dataframe thead th {\n",
       "        text-align: right;\n",
       "    }\n",
       "</style>\n",
       "<table border=\"1\" class=\"dataframe\">\n",
       "  <thead>\n",
       "    <tr style=\"text-align: right;\">\n",
       "      <th></th>\n",
       "      <th>Unnamed: 0</th>\n",
       "      <th>is F</th>\n",
       "      <th>Joined Group on</th>\n",
       "      <th>Last visited group on</th>\n",
       "      <th>Last Attended</th>\n",
       "      <th>Total RSVPs</th>\n",
       "      <th>RSVPed Yes</th>\n",
       "      <th>RSVPed Maybe</th>\n",
       "      <th>RSVPed No</th>\n",
       "      <th>Meetups attended</th>\n",
       "      <th>Intro</th>\n",
       "      <th>Photo</th>\n",
       "      <th>Assistant Organizer</th>\n",
       "      <th>Mailing List</th>\n",
       "      <th>dt_join</th>\n",
       "      <th>date_join</th>\n",
       "      <th>month_year_join</th>\n",
       "      <th>attended</th>\n",
       "    </tr>\n",
       "  </thead>\n",
       "  <tbody>\n",
       "    <tr>\n",
       "      <th>0</th>\n",
       "      <td>0</td>\n",
       "      <td>0.0</td>\n",
       "      <td>July 10, 2017</td>\n",
       "      <td>May 25, 2018</td>\n",
       "      <td>0</td>\n",
       "      <td>1.0</td>\n",
       "      <td>1.0</td>\n",
       "      <td>0.0</td>\n",
       "      <td>0.0</td>\n",
       "      <td>0.0</td>\n",
       "      <td>No</td>\n",
       "      <td>Yes</td>\n",
       "      <td>No</td>\n",
       "      <td>Yes</td>\n",
       "      <td>2017-07-10</td>\n",
       "      <td>2017-07-10</td>\n",
       "      <td>2017 Jul</td>\n",
       "      <td>yes</td>\n",
       "    </tr>\n",
       "    <tr>\n",
       "      <th>1</th>\n",
       "      <td>1</td>\n",
       "      <td>0.0</td>\n",
       "      <td>July 22, 2017</td>\n",
       "      <td>July 22, 2017</td>\n",
       "      <td>0</td>\n",
       "      <td>0.0</td>\n",
       "      <td>0.0</td>\n",
       "      <td>0.0</td>\n",
       "      <td>0.0</td>\n",
       "      <td>0.0</td>\n",
       "      <td>No</td>\n",
       "      <td>Yes</td>\n",
       "      <td>No</td>\n",
       "      <td>Yes</td>\n",
       "      <td>2017-07-22</td>\n",
       "      <td>2017-07-22</td>\n",
       "      <td>2017 Jul</td>\n",
       "      <td>no</td>\n",
       "    </tr>\n",
       "    <tr>\n",
       "      <th>2</th>\n",
       "      <td>2</td>\n",
       "      <td>0.0</td>\n",
       "      <td>July 12, 2017</td>\n",
       "      <td>February 28, 2018</td>\n",
       "      <td>March 2, 2018</td>\n",
       "      <td>2.0</td>\n",
       "      <td>2.0</td>\n",
       "      <td>0.0</td>\n",
       "      <td>0.0</td>\n",
       "      <td>2.0</td>\n",
       "      <td>No</td>\n",
       "      <td>No</td>\n",
       "      <td>No</td>\n",
       "      <td>Yes</td>\n",
       "      <td>2017-07-12</td>\n",
       "      <td>2017-07-12</td>\n",
       "      <td>2017 Jul</td>\n",
       "      <td>yes</td>\n",
       "    </tr>\n",
       "    <tr>\n",
       "      <th>3</th>\n",
       "      <td>3</td>\n",
       "      <td>0.0</td>\n",
       "      <td>February 22, 2018</td>\n",
       "      <td>March 1, 2018</td>\n",
       "      <td>0</td>\n",
       "      <td>1.0</td>\n",
       "      <td>0.0</td>\n",
       "      <td>0.0</td>\n",
       "      <td>1.0</td>\n",
       "      <td>0.0</td>\n",
       "      <td>No</td>\n",
       "      <td>Yes</td>\n",
       "      <td>No</td>\n",
       "      <td>Yes</td>\n",
       "      <td>2018-02-22</td>\n",
       "      <td>2018-02-22</td>\n",
       "      <td>2018 Feb</td>\n",
       "      <td>yes</td>\n",
       "    </tr>\n",
       "    <tr>\n",
       "      <th>4</th>\n",
       "      <td>4</td>\n",
       "      <td>0.0</td>\n",
       "      <td>September 16, 2017</td>\n",
       "      <td>September 16, 2017</td>\n",
       "      <td>0</td>\n",
       "      <td>0.0</td>\n",
       "      <td>0.0</td>\n",
       "      <td>0.0</td>\n",
       "      <td>0.0</td>\n",
       "      <td>0.0</td>\n",
       "      <td>No</td>\n",
       "      <td>Yes</td>\n",
       "      <td>No</td>\n",
       "      <td>Yes</td>\n",
       "      <td>2017-09-16</td>\n",
       "      <td>2017-09-16</td>\n",
       "      <td>2017 Sep</td>\n",
       "      <td>no</td>\n",
       "    </tr>\n",
       "  </tbody>\n",
       "</table>\n",
       "</div>"
      ],
      "text/plain": [
       "   Unnamed: 0  is F     Joined Group on Last visited group on  Last Attended  \\\n",
       "0           0   0.0       July 10, 2017          May 25, 2018              0   \n",
       "1           1   0.0       July 22, 2017         July 22, 2017              0   \n",
       "2           2   0.0       July 12, 2017     February 28, 2018  March 2, 2018   \n",
       "3           3   0.0   February 22, 2018         March 1, 2018              0   \n",
       "4           4   0.0  September 16, 2017    September 16, 2017              0   \n",
       "\n",
       "   Total RSVPs  RSVPed Yes  RSVPed Maybe  RSVPed No  Meetups attended Intro  \\\n",
       "0          1.0         1.0           0.0        0.0               0.0    No   \n",
       "1          0.0         0.0           0.0        0.0               0.0    No   \n",
       "2          2.0         2.0           0.0        0.0               2.0    No   \n",
       "3          1.0         0.0           0.0        1.0               0.0    No   \n",
       "4          0.0         0.0           0.0        0.0               0.0    No   \n",
       "\n",
       "  Photo Assistant Organizer Mailing List    dt_join  date_join  \\\n",
       "0   Yes                  No          Yes 2017-07-10 2017-07-10   \n",
       "1   Yes                  No          Yes 2017-07-22 2017-07-22   \n",
       "2    No                  No          Yes 2017-07-12 2017-07-12   \n",
       "3   Yes                  No          Yes 2018-02-22 2018-02-22   \n",
       "4   Yes                  No          Yes 2017-09-16 2017-09-16   \n",
       "\n",
       "  month_year_join attended  \n",
       "0        2017 Jul      yes  \n",
       "1        2017 Jul       no  \n",
       "2        2017 Jul      yes  \n",
       "3        2018 Feb      yes  \n",
       "4        2017 Sep       no  "
      ]
     },
     "execution_count": 7,
     "metadata": {},
     "output_type": "execute_result"
    }
   ],
   "source": [
    "members.head()"
   ]
  },
  {
   "cell_type": "code",
   "execution_count": 8,
   "metadata": {},
   "outputs": [],
   "source": [
    "members = members.sort_values([\"dt_join\"])"
   ]
  },
  {
   "cell_type": "code",
   "execution_count": 12,
   "metadata": {},
   "outputs": [
    {
     "data": {
      "text/plain": [
       "<matplotlib.figure.Figure at 0x111d06be0>"
      ]
     },
     "metadata": {},
     "output_type": "display_data"
    },
    {
     "data": {
      "image/png": "[encoded data removed]",
      "text/plain": [
       "<matplotlib.figure.Figure at 0x1121582b0>"
      ]
     },
     "metadata": {},
     "output_type": "display_data"
    }
   ],
   "source": [
    "import numpy as np\n",
    "import seaborn as sns\n",
    "import matplotlib.pyplot as plt\n",
    "#sns.set(style=\"white\", context=\"talk\")\n",
    "fig = plt.figure(figsize=(12, 12))\n",
    "sns.set(style=\"white\")\n",
    "\n",
    "years_months = members.month_year_join.unique()\n",
    "\n",
    "g = sns.factorplot(x='month_year_join', data=members, kind=\"count\",\n",
    "                   palette=\"BuPu\", size=6, aspect=3)\n",
    "#g.set_xticklabels(step=2)\n",
    "\n",
    "fig.autofmt_xdate()"
   ]
  },
  {
   "cell_type": "code",
   "execution_count": 15,
   "metadata": {},
   "outputs": [
    {
     "data": {
      "text/plain": [
       "<matplotlib.figure.Figure at 0x112811ba8>"
      ]
     },
     "metadata": {},
     "output_type": "display_data"
    },
    {
     "data": {
      "image/png": "[encoded data removed]",
      "text/plain": [
       "<matplotlib.figure.Figure at 0x112854898>"
      ]
     },
     "metadata": {},
     "output_type": "display_data"
    }
   ],
   "source": [
    "members = members.sort_values([\"dt_last_visit\"])\n",
    "import numpy as np\n",
    "import seaborn as sns\n",
    "import matplotlib.pyplot as plt\n",
    "#sns.set(style=\"white\", context=\"talk\")\n",
    "fig = plt.figure(figsize=(12, 12))\n",
    "sns.set(style=\"white\")\n",
    "\n",
    "years_months = members.month_year_visit.unique()\n",
    "\n",
    "g = sns.factorplot(x='month_year_visit', data=members, kind=\"count\",\n",
    "                   palette=\"BuPu\", size=6, aspect=3)\n",
    "#g.set_xticklabels(step=2)\n",
    "\n",
    "fig.autofmt_xdate()"
   ]
  },
  {
   "cell_type": "code",
   "execution_count": null,
   "metadata": {},
   "outputs": [],
   "source": []
  }
 ],
 "metadata": {
  "kernelspec": {
   "display_name": "Puython3-analysis",
   "language": "python",
   "name": "puython3-analysis"
  },
  "language_info": {
   "codemirror_mode": {
    "name": "ipython",
    "version": 3
   },
   "file_extension": ".py",
   "mimetype": "text/x-python",
   "name": "python",
   "nbconvert_exporter": "python",
   "pygments_lexer": "ipython3",
   "version": "3.6.3"
  },
  "toc": {
   "nav_menu": {},
   "number_sections": true,
   "sideBar": true,
   "skip_h1_title": false,
   "title_cell": "Table of Contents",
   "title_sidebar": "Contents",
   "toc_cell": false,
   "toc_position": {},
   "toc_section_display": true,
   "toc_window_display": false
  }
 },
 "nbformat": 4,
 "nbformat_minor": 2
}
